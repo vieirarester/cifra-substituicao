{
  "nbformat": 4,
  "nbformat_minor": 0,
  "metadata": {
    "colab": {
      "provenance": [],
      "authorship_tag": "ABX9TyNRqPIhmzW0KWWfPd2DcT5F",
      "include_colab_link": true
    },
    "kernelspec": {
      "name": "python3",
      "display_name": "Python 3"
    },
    "language_info": {
      "name": "python"
    }
  },
  "cells": [
    {
      "cell_type": "markdown",
      "metadata": {
        "id": "view-in-github",
        "colab_type": "text"
      },
      "source": [
        "<a href=\"https://colab.research.google.com/github/vieirarester/cifra-substituicao/blob/main/Cifra_de_Substituicao.ipynb\" target=\"_parent\"><img src=\"https://colab.research.google.com/assets/colab-badge.svg\" alt=\"Open In Colab\"/></a>"
      ]
    },
    {
      "cell_type": "code",
      "execution_count": 10,
      "metadata": {
        "id": "sY2NkFxLUpsk"
      },
      "outputs": [],
      "source": [
        "class Cifra:\n",
        "  def __init__(self, chave, mensagem):\n",
        "    self.alfabeto = \"abcdefghijklmnopqrstuvwxyzABCDEFGHIJKLMNOPQRSTUVWXYZ0123456789 ,;._\"\n",
        "    self.mensagem = self.validar_mensagem(mensagem)\n",
        "    self.chave = self.validar_chave(chave)\n",
        "\n",
        "    self.tamanho_alfabeto = len(self.alfabeto)\n",
        "    self.tamanho_mensagem = len(self.mensagem)\n",
        "    self.tamanho_chave = len(self.chave)\n",
        "\n",
        "  def validar_chave(self, chave):\n",
        "    for i in chave:\n",
        "      if i not in self.alfabeto:\n",
        "        raise ValueError(f\"A chave contém caractere inválido: {i}\")\n",
        "    return chave\n",
        "\n",
        "  def validar_mensagem(self, mensagem):\n",
        "    for i in mensagem:\n",
        "      if i not in self.alfabeto:\n",
        "        raise ValueError(f\"A mensagem contém caractere inválido: {i}\")\n",
        "    return mensagem\n",
        "\n",
        "  def encriptar(self, texto_claro):\n",
        "    texto_cifrado = \"\"\n",
        "\n",
        "    for indice, caractere in enumerate(self.mensagem):\n",
        "      indice_mensagem = self.alfabeto.index(caractere)\n",
        "      indice_chave = self.chave.index(self.chave[indice % len(self.chave)])\n",
        "\n",
        "      # considerando a fórmula de encriptação: Ci = (pi + ki-tamanho_chave) % len(alfabeto)\n",
        "      indice_cifra = (indice_mensagem + indice_chave) % self.tamanho_alfabeto\n",
        "      texto_cifrado += self.alfabeto[indice_cifra]\n",
        "\n",
        "\n",
        "  def descriptar(self, texto_cifrado):\n",
        "    texto_descifrado = \"\"\n",
        "\n",
        "    for indice, caractere in enumerate(self.mensagem):\n",
        "      indice_mensagem = self.alfabeto.index(caractere)\n",
        "      indice_chave = self.chave.index(self.chave[indice % len(self.chave)])\n",
        "\n",
        "      # considerando a fórmula de descriptação: Ci = (pi - ki-tamanho_chave) % len(alfabeto)\n",
        "      indice_cifra = (indice_mensagem - indice_chave) % self.tamanho_alfabeto\n",
        "      texto_descifrado += self.alfabeto[indice_cifra]\n",
        "\n",
        ""
      ]
    },
    {
      "cell_type": "code",
      "source": [
        "if __name__ == \"__main__\":\n",
        "    while True:\n",
        "        print(\"OPÇÕES:\")\n",
        "        print(\"1 - Encriptar\")\n",
        "        print(\"2 - Descriptar\")\n",
        "        print(\"Qualquer - Sair\")\n",
        "        opcao = input(\"Digite: \")\n",
        "\n",
        "        match opcao:\n",
        "            case \"1\":\n",
        "                mensagem = input(\"Digite a MENSAGEM: \")\n",
        "                chave = input(\"Digite a CHAVE: \")\n",
        "\n",
        "                cifra = Cifra(chave, mensagem)\n",
        "                texto_cifrado = cifra.encriptar(mensagem)\n",
        "                texto_claro = cifra.descriptar(texto_cifrado)\n",
        "\n",
        "                print(f\"\\n# Texto claro: {mensagem}\")\n",
        "                print(f\"# Mensagem cifrada: {texto_cifrado}\")\n",
        "                print(f\"# Mensagem descifrada: {texto_claro}\\n\")\n",
        "\n",
        "            case \"2\":\n",
        "                mensagem = input(\"Digite o TEXTO CIFRADO: \")\n",
        "                chave = input(\"Digite a CHAVE: \")\n",
        "\n",
        "                cifra = Cifra(chave, mensagem)\n",
        "\n",
        "                print(f\"\\n# Texto cifrado: {mensagem}\")\n",
        "                print(f\"# Mensagem descriptada: {cifra.descriptar(mensagem)}\")\n",
        "                print(f\"# Mensagem encriptada: {cifra.encriptar(mensagem)}\\n\")\n",
        "\n",
        "            case _:\n",
        "              print(\"Saindo...\")\n",
        "              break"
      ],
      "metadata": {
        "colab": {
          "base_uri": "https://localhost:8080/"
        },
        "id": "Lv3yNx7NqykK",
        "outputId": "eebcfc8e-02fc-4471-b1a9-b01da7a6c394"
      },
      "execution_count": 14,
      "outputs": [
        {
          "output_type": "stream",
          "name": "stdout",
          "text": [
            "OPÇÕES:\n",
            "1 - Encriptar\n",
            "2 - Descriptar\n",
            "Qualquer - Sair\n",
            "Digite: 1\n",
            "Digite a MENSAGEM: mensagem\n",
            "Digite a CHAVE: chave\n",
            "\n",
            "# Texto claro: mensagem\n",
            "# Mensagem cifrada: None\n",
            "# Mensagem descifrada: None\n",
            "\n",
            "OPÇÕES:\n",
            "1 - Encriptar\n",
            "2 - Descriptar\n",
            "Qualquer - Sair\n",
            "Digite: a\n",
            "Saindo...\n"
          ]
        }
      ]
    }
  ]
}