{
  "nbformat": 4,
  "nbformat_minor": 0,
  "metadata": {
    "colab": {
      "provenance": [],
      "authorship_tag": "ABX9TyN4RER4uWMNrITGOe4OdLEH",
      "include_colab_link": true
    },
    "kernelspec": {
      "name": "python3",
      "display_name": "Python 3"
    },
    "language_info": {
      "name": "python"
    }
  },
  "cells": [
    {
      "cell_type": "markdown",
      "metadata": {
        "id": "view-in-github",
        "colab_type": "text"
      },
      "source": [
        "<a href=\"https://colab.research.google.com/github/vieirarester/cifra-substituicao/blob/main/Cifra_de_Substituicao.ipynb\" target=\"_parent\"><img src=\"https://colab.research.google.com/assets/colab-badge.svg\" alt=\"Open In Colab\"/></a>"
      ]
    },
    {
      "cell_type": "code",
      "execution_count": 25,
      "metadata": {
        "id": "sY2NkFxLUpsk"
      },
      "outputs": [],
      "source": [
        "class Cifra:\n",
        "  def __init__(self, chave, mensagem):\n",
        "    self.alfabeto = \"abcdefghijklmnopqrstuvwxyzABCDEFGHIJKLMNOPQRSTUVWXYZ0123456789 ,;._\"\n",
        "    self.mensagem = self.validar_mensagem(mensagem)\n",
        "    self.chave = self.validar_chave(chave)\n",
        "\n",
        "    self.tamanho_alfabeto = len(self.alfabeto)\n",
        "    self.tamanho_mensagem = len(self.mensagem)\n",
        "    self.tamanho_chave = len(self.chave)\n",
        "\n",
        "  # valida a chave considerando o alfabeto\n",
        "  def validar_chave(self, chave):\n",
        "    for i in chave:\n",
        "      if i not in self.alfabeto:\n",
        "        raise ValueError(f\"A chave contém caractere inválido: {i}\")\n",
        "    return chave\n",
        "\n",
        "  # valida a mensagem considerando o alfabeto\n",
        "  def validar_mensagem(self, mensagem):\n",
        "    for i in mensagem:\n",
        "      if i not in self.alfabeto:\n",
        "        raise ValueError(f\"A mensagem contém caractere inválido: {i}\")\n",
        "    return mensagem\n",
        "\n",
        "  def encriptar(self):\n",
        "    texto_cifrado = \"\"\n",
        "\n",
        "    # varre cada indice de cada caractere da mensagem\n",
        "    for indice, caractere in enumerate(self.mensagem):\n",
        "      # guarda o indice de cada caractere da mensagem\n",
        "      indice_mensagem = self.alfabeto.index(caractere)\n",
        "      # guarda o indice de cada caractere da chave, repetindo-a caso precise\n",
        "      indice_chave = self.chave.index(self.chave[indice % len(self.chave)])\n",
        "\n",
        "      # considerando a fórmula de encriptação: Ci = (pi + ki-tamanho_chave) % len(alfabeto)\n",
        "      indice_cifra = (indice_mensagem + indice_chave) % self.tamanho_alfabeto\n",
        "      # concatena cada caractere substituido formando o texto cifrado\n",
        "      texto_cifrado += self.alfabeto[indice_cifra]\n",
        "\n",
        "    return texto_cifrado\n",
        "\n",
        "\n",
        "  def descriptar(self, texto_cifrado):\n",
        "    texto_descifrado = \"\"\n",
        "\n",
        "    # varre cada indice de cada caractere da mensagem\n",
        "    for indice, caractere in enumerate(texto_cifrado):\n",
        "      # guarda o indice de cada caractere da mensagem\n",
        "      indice_mensagem = self.alfabeto.index(caractere)\n",
        "      # guarda o indice de cada caractere da chave, repetindo-a caso precise\n",
        "      indice_chave = self.chave.index(self.chave[indice % len(self.chave)])\n",
        "\n",
        "      # considerando a fórmula de descriptação: Ci = (pi - ki-tamanho_chave) % len(alfabeto)\n",
        "      indice_cifra = (indice_mensagem - indice_chave) % self.tamanho_alfabeto\n",
        "      # concatena cada caractere substituido formando o texto descifrado\n",
        "      texto_descifrado += self.alfabeto[indice_cifra]\n",
        "\n",
        "    return texto_descifrado\n",
        "\n"
      ]
    },
    {
      "cell_type": "code",
      "source": [
        "if __name__ == \"__main__\":\n",
        "\n",
        "  while True:\n",
        "    try:\n",
        "        mensagem = input(\"Digite a mensagem: \")\n",
        "        chave = input(\"Digite a chave: \")\n",
        "\n",
        "        # tenta criar o objeto cifra\n",
        "        cifra = Cifra(chave, mensagem)\n",
        "        texto_cifrado = cifra.encriptar()\n",
        "        texto_claro = cifra.descriptar(texto_cifrado)\n",
        "\n",
        "        print(f\"\\n# Texto claro: {mensagem}\")\n",
        "        print(f\"# Mensagem cifrada: {texto_cifrado}\")\n",
        "        print(f\"# Mensagem descifrada: {texto_claro}\\n\")\n",
        "\n",
        "        break\n",
        "\n",
        "    except ValueError as e:\n",
        "        print(f\"Erro: {e}\")\n",
        "        print(\"Por favor, insira novamente os dados.\\n\")\n",
        "\n",
        ""
      ],
      "metadata": {
        "colab": {
          "base_uri": "https://localhost:8080/"
        },
        "id": "Lv3yNx7NqykK",
        "outputId": "504669cc-f9a9-4924-fcb4-a84632bdf6d6"
      },
      "execution_count": 29,
      "outputs": [
        {
          "output_type": "stream",
          "name": "stdout",
          "text": [
            "Digite a mensagem: Hello123\n",
            "Digite a chave: Key\n",
            "\n",
            "# Texto claro: Hello123\n",
            "# Mensagem cifrada: Hfnlp324\n",
            "# Mensagem descifrada: Hello123\n",
            "\n"
          ]
        }
      ]
    }
  ]
}